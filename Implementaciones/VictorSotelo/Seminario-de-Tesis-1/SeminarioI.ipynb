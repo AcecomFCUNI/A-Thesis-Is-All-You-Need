{
 "cells": [
  {
   "cell_type": "markdown",
   "metadata": {},
   "source": [
    "# Seminario de Tesis I \n",
    "\n",
    "## Entrenamiento de una Deep Neural Network mediante el uso de GPGPU computing."
   ]
  },
  {
   "cell_type": "markdown",
   "metadata": {},
   "source": [
    "\n",
    "# Capítulo 1\n",
    "\n",
    "## Introducción\n",
    "\n",
    "En el campo de la inteligencia artificial las **redes neuronales profundas**(Deep Neural Network) tienen un papel muy importante debido a que estas son el camino para que las computadoras realicen tareas que nuestros cerebros realizan  de natural, tareas como por ejemplo el reconocimiento de voz, imagenes y patrones. \n",
    "En la actualidad muchas empresas importantes utilizan las redes neuronales profundas algunas de estas empresas son google con el reconocimiento de voz e imagenes, Netflix para la realizar las sugerencias a sus usuarios entre otros. Un caracteristica de las redes neuronales profundas es que están compuestas por una gran cantidad de capas lo cual dificulta el entrenamiento en computadoras que solo usan el CPU. Una manera de resolver este problema es mediante el uso de las GPU's debido que las tareas de entrenamiento son paralelizables podemos usar las GPU'S para acelerar el proceso de entrenamientos de nuestra red neuronal profunda."
   ]
  },
  {
   "cell_type": "markdown",
   "metadata": {},
   "source": [
    "### 1.1 Motivaciones\n",
    "\n",
    "La inteligencia artificial constituye una base muy importante en el campo de la computación, mezcla un conjunto de disciplinas como la estadística y ciencia de la computación con el objetivo de construir modelos que puedan permitir a las computadoras realizar tareas que hace años hubiese sido considerado imposible. El hecho de lograr que las computadoras sean capaces de reconocer objetos, clasificarlos lo cual ha permitido que la industria de la robotíca desarrolle de manera acelerada en las últimas décadas.  Hoy en día existen muchas herramientas que nos permiten desarrollar este tema y profundizarlo pero a medida que aumenta la complejidad del problema, el costo computacional incrementa lo cual se convierte un problema importante. Una de la soluciones que apareció fue el uso de la GPU's para acelerar procesos como el entrenamiento de una red neural con muchas capas ocultas, las GPU's representa una solución muy eficaz debido a que en el campo de la inteligencia artificial existen muchas tareas que son paralelizables.\n",
    "\n",
    " Actualmente el mercado de GPU's evoluciona muy rápido debido a su gran demanda en la industria de los videojuegos este mercado esta dominado por NVIDIA y AMD esta competencia y la alta demanda permite que las GPU's tengan mejor rendimiento, además actualmente la nube ofrece otra posibiliad para el desarrollo de GPGPU computing debido a que nos permite tener acceso a mejores recursos.\n",
    "\n",
    "La evolución de GPU's nos permite usarlos en para mejorar el procesamiento además de las mejoras del hardware existe una variedad de algoritmos de optimización que nos permiten llegar a una convergencia de manera más optima.Las mejoras del hardware y el desarrollo de nuevos algoritmos cada vez más robustos permiten que deep learning sea un herramientas que permitan el desarrollo de sistemas inteligentes.\n",
    "\n"
   ]
  },
  {
   "cell_type": "markdown",
   "metadata": {},
   "source": [
    "### 1.2 Objetivos \n",
    "\n",
    "El objetivo de este seminario es el de mostrar las ventanjas que presentan los algoritmos de optmización dentro de una deep neural network.\n",
    "\n",
    "Especificamente, los objetivos de este trabajo con respecto al sistema son:\n",
    "\n",
    "+ Entender el funcionamiento de las redes neuronales profundas\n",
    "+ Mostrar los resultados de mediante distintos algoritmos de optimización en el entramiento de una red  neuronal profunda.\n",
    "+ Realizar un análisis comparativo al momento de entrenar la deep neural network.\n",
    "\n",
    "Y los objetivos con respecto a las competencias académicas desplegadas en el trabajo son:\n",
    "\n",
    "+ Desarrollar un manejo adecuado del uso GPU computing.\n",
    "+ Lograr un entendimiento de la tareas que son paralelizabeles en el entrenamiento de la red neuronal profunda.\n",
    "+ Desarrollar un manejo adecuado de tensorflow como herramienta para el reconocimiento de imagenes."
   ]
  },
  {
   "cell_type": "markdown",
   "metadata": {},
   "source": [
    "### 1.3 Estructura del seminario\n",
    "Para brindrar al lector una idea global del contenido de este trabajo, a continuación se hace una breve descripción del propósito de cada capítulo presente en este seminario de tesis.\n",
    "\n",
    "+ Introdución:<br>\n",
    "    En este capítulo introductorio se comentará sobres las motivaciones, objetivos con los cual se penso el presente seminario.\n",
    "+ Estado del Arte:<br>\n",
    "    En este capítulo observaremos los trabajos e investigaciones previa que tiene el presente seminario , además se expondrá el aporte que relizaremos.\n",
    "+ Marco Teórico:\n"
   ]
  },
  {
   "cell_type": "markdown",
   "metadata": {},
   "source": [
    "## Capítulo 2\n",
    "\n",
    "### Estado del Arte\n",
    "En este capítulo describiremos anteriores investigaciones de la relación entre GPGPU computing y machine learning, además de sus aplicaciones. También mostraremos investigaciones referentes a deep learning exclusivamente nos enfocaremos a Convolutional Neural Network(CNN) que son parte del tema de estudio en este seminario. \n"
   ]
  },
  {
   "cell_type": "markdown",
   "metadata": {},
   "source": [
    "#### 2.1 GPU computing\n",
    "El uso de las GPU's han permitido lograr aplicaciones que antes podriamos imaginar que eran imposibles debido a su largo tiempo de ejecución. Hoy en día las GPU's son altamentes usadas debido que cuentan con cientos de núcleos de procesadores en paralelo que permiten resolver rápidamente los problemas que son altamente paralelizables.\n",
    "##### 2.1.1 The GPU computing Era\n",
    "En artículo se enfoca principalmente en describir la evolución que sufrieron las arquitecturas de GPU's, además de mostrar la importancia del uso de las GPU's para un mayor rendimiento y eficiencia que antes hubiesen sido consideradas imposibles debido al alto tiempo de ejecución que requerian. Además nos muestra que la escalabilidad es la principal característica que ha permito que las GPU's aumenten su paralelismo y redimiento."
   ]
  },
  {
   "cell_type": "markdown",
   "metadata": {},
   "source": [
    "\n",
    "#### 2.2 Machine learning aplicado a GPU's\n",
    "El uso de machine learning representa una gran ventaja para empresas que manejan gran cantidad de datos debido a que permiten descubrir patrones y analizar los datos.\n",
    "\n",
    "##### 2.2.1 Uso de redes neuronales para encontrar el rendimiento de una GPU\n",
    "\n",
    "En la actualidad existen empresas dedicadas a la creación de GPU's, en el proceso una parte fundamental es la verificación del rendimiento de las GPU's actualmente existen simuladores conocidos como GPGPU-SIM que permiten estimaciones precisas pero estos poseen algunas dificultades como el tiempo empleado en configurarlos en base al hardware real además que este proceso esta propenso a errores. Un equipo de equipo conformado por investigadores de AMD y The University of Texas at Austin, quienes propusieron el uso de redes neuronales para predecir el rendimiento."
   ]
  },
  {
   "cell_type": "markdown",
   "metadata": {},
   "source": [
    "#### 2.3 Deep Learning\n",
    "\n",
    "Dentro del área de machine learning  encontramos deep learning o aprendizaje profundo el cual consiste en un conjunto de algoritmos que modela abstracciones de alto nivel.\n",
    "\n",
    "###### 2.3.1 Deep Machine Learning - A New Frontier in Artificial Intelligence\n",
    "Este trabajo de investigación fue realizado por investigadores oak Ridge National Laboratory y University of tennessee, el objetivo principal de este trabajo fue presentarnos el aprendizaje profundo como un camino para la imitación del cerebro humano y sus principales cualidad como el reconocimientos de objetos, rostros, etc.\n",
    "\n",
    "Además de mostrarnos las aplicaciones del aprendizaje profundo, como : analísis de documentos, detección de voz, rostro, procesamiento natural del lenguaje, etc.\n",
    "\n",
    "Actualmente existen algunas empresas privadas que apoyan el campo de deep learning con el objetivo de buscar sus aplicaciones comerciales entre estas empresas tenemos: [Numenta](https://numenta.com/) y [Binatix](http://www.binatix.com/).\n"
   ]
  },
  {
   "cell_type": "markdown",
   "metadata": {},
   "source": [
    "\n",
    "## Capítulo 3\n",
    "### CPU\n",
    "CPU(Central Processing Unit) es el hardware encargado del procesamiento de tareas mediante las operaciones básicas aritméticas, logicas y de entrada y salida del sistema. Los ordenadores actuales cuenta con más de una lo cual les permite usar multiprocesamiento. Los nucleos de la cpu estan hechos para el procesamiento de las tareas de manera secuencial.\n",
    "Una CPU tiene 2 componentes principales:\n",
    "+ **ALU (Unidad Aritmetica Logica):** se encarga de realizar las operaciones aritméticas y lógicas.\n",
    "+ **CU  (Unidad de Control       ):** extrae información de la memoria la decodifica y ejecuta llamando a ALU las veces que sea necesario.\n",
    "\n",
    "### GPU\n",
    "Las GPU(Graphics Processing Unit)\n",
    "A diferencia de las CPU los GPU's estan compuestos de miles de nucleos que fueron diseñados para resolver tareas en paralelo.\n",
    "\n",
    "### Procesamiento en Parelelo\n",
    "El procesamiento en paralelo consiste en dividir als instrucciones del programa en multiples procesadores con el objetivo de ejecutar el programa en menos tiempo.\n",
    "\n",
    "### GPGPU\n",
    "GPGPU(General Purpose Graphics Processing Unit) consiste en realizacción de los calculos que comumente serian realizados por el CPU utilizando GPU. Este método permite aprovechar los beneficios de potencia en procesamiento paralelos de las GPU's.\n",
    "<img src=http://la.nvidia.com/docs/IO/144271/cpu-and-gpu.jpg>"
   ]
  },
  {
   "cell_type": "markdown",
   "metadata": {},
   "source": [
    "\n",
    "\n",
    "### Neuronas\n",
    "En la biología la neurona es conocida como la unidad fundamental del cerebro humano, el cual está compuesto por millones de neuronas interconectadas entre si. El trabajo de las neuronas consiste en recibir información, procesarla y enviarla a otras células. Este modelo fue copiado en 1943 por Warren S. McCulloch y Walter H. Pitts. Analogamente con las neuronas del cerebro humano nuestra neuro artificial toma una cantidad n de entradas x<sub>1</sub>, x<sub>2</sub>, x<sub>3</sub>, .. , x<sub>n</sub> estas entradas serán multiplicadas por pesos w<sub>1</sub>, w<sub>2</sub>, w<sub>3</sub>, .. , w<sub>n</sub> además se puede añadir una constante que llamaremos bias. \n",
    "\n",
    "La entrada a de la neurona será la suma total de los productos z=  $\\sum_{i=1}^{n}x_{i}$ , el valor de z será la entrada a la neurona la cual la evaluará con una función f de tal forma que nuestra salida sea $y=f(z)$. Otra forma de ver esta expresión es por medio de la notación de vectores donde representaremos a las entradas como $x= [x_{1}  x_{2}  x_{3}  ...  x_{n}]$ y los pesos w= $[w_{1}  w_{2}  w_{3}  ...  w_{n}]$ de esta manera la salida de la neurona estará dada por $y=f(x\\cdot w+b)$ donde b representa las bias. \n",
    "\n",
    "### Redes Neuronales Artificiales\n",
    "\n",
    "Las redes neuronales artificiales(ANN)toman de ejemplo la arquitectura del cerebro como inspiración para la construcción de sistemas inteligente. Actualmente son la base para el desarrollo de la inteligencia artificial. Las redes neuronales están constituidas de las uniones de las neuronas.\n",
    "\n"
   ]
  },
  {
   "cell_type": "markdown",
   "metadata": {},
   "source": [
    "### Redes Neuronales Profundas\n",
    "\n",
    "Las redes neuronales profundas estan constituidas principalmente de un numero de capas de convolución, No linearalidad y pooling.\n",
    "\n",
    "+ #### Convolución\n",
    "Un proceso importante dentro de las redes neuronales es la convolución que es usada para detectar las características de una imagen estas características pueden ser bordes, curvas, etc.\n",
    "\n",
    "+ #### No linearalidad\n",
    "Debido a que las convoluciones son operaciones lineales, lo cual no es adecuado para las tareas del mundo real. Debido a esto es importante introducir el ReLu que aplicará funciones no lineales a los mapas de característica producidas en las capas de convolución.\n",
    "Una de las funciones las común es ReLu.\n",
    "<img src=\"https://ml4a.github.io/images/figures/relu.png\">\n",
    "\n",
    "\n",
    "+ #### Pooling\n",
    "Sirve para transformar el mapa de características en una representación de menor dimensión con el objetivo de la red sea más invariante a pequeñas transformaciones o variación de la imagen de entrada.\n",
    "\n",
    "## Convolutional Neural Network\n",
    "Fueron basadas en proceso biologicos donde la conectividad entre las neuronas se asemeja a la corteza de un animal."
   ]
  },
  {
   "cell_type": "markdown",
   "metadata": {},
   "source": [
    "### Herramientas\n",
    "\n",
    "#### TensorFlow\n",
    "Es un framework open source de google que nos permite realizar multiples técnicas de deep learning. TensorFlow nos provee de multiples API's en el nivel bajo de la API nos provee completo control en la programación y el nivel más alto nops permite que las tareas repetitivas sean más faciles y consistente.\n",
    "Además la arquitectura flexible nos permite implementar cálculos a una a o más CPU's o GPUs, actualmente este framework es usado por muchas compañias como inte, Nvidia,UBER, etc.\n",
    "\n",
    "![Con titulo](latexformato/Figures/tensorflow.png \"titulo\")\n"
   ]
  }
 ],
 "metadata": {
  "kernelspec": {
   "display_name": "Python 3",
   "language": "python",
   "name": "python3"
  },
  "language_info": {
   "codemirror_mode": {
    "name": "ipython",
    "version": 3
   },
   "file_extension": ".py",
   "mimetype": "text/x-python",
   "name": "python",
   "nbconvert_exporter": "python",
   "pygments_lexer": "ipython3",
   "version": "3.6.4"
  }
 },
 "nbformat": 4,
 "nbformat_minor": 2
}
